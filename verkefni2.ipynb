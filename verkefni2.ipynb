{
 "cells": [
  {
   "cell_type": "markdown",
   "metadata": {},
   "source": [
    "\n",
    "# Verkefni 2\n",
    "\n",
    "## Textasöfn\n",
    "\n",
    "Er með tvö textasöfn, aðallega því ég hafði ekki mikinn tíma til að finna eitthvað sem mér finnst persónulega spennandi, en byggði kóða til að geta tekið við almennum texta á íslensku eða ensku.\n",
    "\n",
    "1. [„Pride and Prejudice“ af Project Gutenberg](https://gutenberg.org/ebooks/1342)\n",
    "2. Einfaldur copy-paste af sönglögum frá [góðum vef](https://sol.heimsnet.is/!GSS_ymislegt/Lagatextar2.htm)\n",
    "\n",
    "## Kóði\n",
    "\n",
    "Forritasafn til að greina texta er í `wordstats.py` ásamt testum í `test_wordstats.py`. Forritað móti python `3.10.6`, með pökkum í `requirements.txt`."
   ]
  },
  {
   "cell_type": "code",
   "execution_count": 1,
   "metadata": {},
   "outputs": [],
   "source": [
    "from wordstats import (\n",
    "    count_words,\n",
    "    count_word_forms,\n",
    "    order_words_by_occurrence,\n",
    "    order_list_of_words_by_occurrence,\n",
    "    unique_word_ratio,\n",
    "    unique_words_ratio,\n",
    "    word_length_ratio,\n",
    "    sorted_nouns,\n",
    "    longest_consonant_cluster,\n",
    "    remove_stop_words\n",
    ")\n"
   ]
  },
  {
   "cell_type": "markdown",
   "metadata": {},
   "source": [
    "## Tölfærðileg vinnsla á „Pride and Prejudice“"
   ]
  },
  {
   "cell_type": "code",
   "execution_count": 2,
   "metadata": {},
   "outputs": [],
   "source": [
    "p_and_p = ''\n",
    "with open(\"./data/pride-and-prejudice.txt\", \"rb\") as input_file:\n",
    "  p_and_p = input_file.read().decode('utf8')"
   ]
  },
  {
   "cell_type": "markdown",
   "metadata": {},
   "source": [
    "1. Skrifið fall sem skilar heildarfjölda orða í textanum."
   ]
  },
  {
   "cell_type": "code",
   "execution_count": 3,
   "metadata": {},
   "outputs": [
    {
     "data": {
      "text/plain": [
       "121904"
      ]
     },
     "execution_count": 3,
     "metadata": {},
     "output_type": "execute_result"
    }
   ],
   "source": [
    "count_words(p_and_p)"
   ]
  },
  {
   "cell_type": "markdown",
   "metadata": {},
   "source": [
    "2. Skrifið fall sem skilar heildarfjölda mismunandi orða (orðmynda) í textanum."
   ]
  },
  {
   "cell_type": "code",
   "execution_count": 4,
   "metadata": {},
   "outputs": [
    {
     "data": {
      "text/plain": [
       "57"
      ]
     },
     "execution_count": 4,
     "metadata": {},
     "output_type": "execute_result"
    }
   ],
   "source": [
    "count_word_forms(p_and_p)"
   ]
  },
  {
   "cell_type": "markdown",
   "metadata": {},
   "source": [
    "3. Skrifið fall sem telur öll orðin í textanum og raðar þeim eftir því hversu oft þau birtast.\n",
    "  1. Hver eru 10 algengustu orðin?"
   ]
  },
  {
   "cell_type": "code",
   "execution_count": 5,
   "metadata": {},
   "outputs": [
    {
     "data": {
      "text/plain": [
       "[{'word': 'to', 'count': 4088},\n",
       " {'word': 'the', 'count': 4060},\n",
       " {'word': 'of', 'count': 3596},\n",
       " {'word': 'and', 'count': 3427},\n",
       " {'word': 'her', 'count': 2109},\n",
       " {'word': 'I', 'count': 2046},\n",
       " {'word': 'a', 'count': 1897},\n",
       " {'word': 'was', 'count': 1841},\n",
       " {'word': 'in', 'count': 1779},\n",
       " {'word': 'that', 'count': 1495}]"
      ]
     },
     "execution_count": 5,
     "metadata": {},
     "output_type": "execute_result"
    }
   ],
   "source": [
    "order_words_by_occurrence(p_and_p)[:10]"
   ]
  },
  {
   "cell_type": "markdown",
   "metadata": {},
   "source": [
    "4. Endurtakið 3, nema breytið öllum hástöfum í lágstafi.\n",
    "    1. Er einhver munur á tíu algengstu orðunum hér og í 3.1?\n",
    "    2. Hver gæti verið ástæðan fyrir því?"
   ]
  },
  {
   "cell_type": "code",
   "execution_count": 6,
   "metadata": {},
   "outputs": [
    {
     "data": {
      "text/plain": [
       "[{'word': 'the', 'count': 4333},\n",
       " {'word': 'to', 'count': 4137},\n",
       " {'word': 'of', 'count': 3608},\n",
       " {'word': 'and', 'count': 3579},\n",
       " {'word': 'her', 'count': 2194},\n",
       " {'word': 'i', 'count': 2046},\n",
       " {'word': 'a', 'count': 1946},\n",
       " {'word': 'in', 'count': 1864},\n",
       " {'word': 'was', 'count': 1844},\n",
       " {'word': 'she', 'count': 1689}]"
      ]
     },
     "execution_count": 6,
     "metadata": {},
     "output_type": "execute_result"
    }
   ],
   "source": [
    "order_words_by_occurrence(p_and_p.lower())[:10]"
   ]
  },
  {
   "cell_type": "markdown",
   "metadata": {},
   "source": [
    "Já munur, `the` oft í byrjun orðs, ásamt líklega `in`."
   ]
  },
  {
   "cell_type": "markdown",
   "metadata": {},
   "source": [
    "Bónus. Hvað ef við fjarlægjum „stop words“?"
   ]
  },
  {
   "cell_type": "code",
   "execution_count": 7,
   "metadata": {
    "scrolled": false
   },
   "outputs": [
    {
     "data": {
      "text/plain": [
       "[{'word': 'mr', 'count': 783},\n",
       " {'word': 'elizabeth', 'count': 596},\n",
       " {'word': 'will', 'count': 403},\n",
       " {'word': 'said', 'count': 401},\n",
       " {'word': 'darcy', 'count': 365},\n",
       " {'word': 'mrs', 'count': 344},\n",
       " {'word': 'much', 'count': 325},\n",
       " {'word': 'must', 'count': 305},\n",
       " {'word': 'bennet', 'count': 289},\n",
       " {'word': 'miss', 'count': 283}]"
      ]
     },
     "execution_count": 7,
     "metadata": {},
     "output_type": "execute_result"
    }
   ],
   "source": [
    "order_list_of_words_by_occurrence(remove_stop_words(p_and_p.lower(), 'en'))[:10]"
   ]
  },
  {
   "cell_type": "markdown",
   "metadata": {},
   "source": [
    "Þetta er mun skemmtilegra! Vinnum án stop words héðan í frá."
   ]
  },
  {
   "cell_type": "code",
   "execution_count": 8,
   "metadata": {},
   "outputs": [],
   "source": [
    "p_and_p_dont_stop = remove_stop_words(p_and_p.lower(), 'en')"
   ]
  },
  {
   "cell_type": "markdown",
   "metadata": {},
   "source": [
    "5. Skrifið fall sem reiknar hlutfall einstakra orða og heildarfjölda orða.\n",
    "(Óviss um hvort væri fyrir hvert orð eða heild, svo hér eru bæði)"
   ]
  },
  {
   "cell_type": "code",
   "execution_count": 9,
   "metadata": {
    "scrolled": true
   },
   "outputs": [
    {
     "data": {
      "text/plain": [
       "[{'word': 'mr', 'count': 783, 'ratio': 0.014188895331980284},\n",
       " {'word': 'elizabeth', 'count': 596, 'ratio': 0.01080023195129023},\n",
       " {'word': 'will', 'count': 403, 'ratio': 0.007302841403305306},\n",
       " {'word': 'said', 'count': 401, 'ratio': 0.007266599014207016},\n",
       " {'word': 'darcy', 'count': 365, 'ratio': 0.006614236010437808},\n",
       " {'word': 'mrs', 'count': 344, 'ratio': 0.00623369092490577},\n",
       " {'word': 'much', 'count': 325, 'ratio': 0.0058893882284720206},\n",
       " {'word': 'must', 'count': 305, 'ratio': 0.0055269643374891275},\n",
       " {'word': 'bennet', 'count': 289, 'ratio': 0.005237025224702812},\n",
       " {'word': 'miss', 'count': 283, 'ratio': 0.005128298057407945}]"
      ]
     },
     "execution_count": 9,
     "metadata": {},
     "output_type": "execute_result"
    }
   ],
   "source": [
    "unique_word_ratio(p_and_p_dont_stop)[:10]"
   ]
  },
  {
   "cell_type": "code",
   "execution_count": 10,
   "metadata": {},
   "outputs": [
    {
     "data": {
      "text/plain": [
       "0.12418454624528849"
      ]
     },
     "execution_count": 10,
     "metadata": {},
     "output_type": "execute_result"
    }
   ],
   "source": [
    "unique_words_ratio(p_and_p_dont_stop)"
   ]
  },
  {
   "cell_type": "markdown",
   "metadata": {},
   "source": [
    "6. Skrifið fall sem reiknar hlutfall orða sem eru lengri en 8 stafir (e. characters)"
   ]
  },
  {
   "cell_type": "code",
   "execution_count": 11,
   "metadata": {},
   "outputs": [
    {
     "data": {
      "text/plain": [
       "0.18634024354885473"
      ]
     },
     "execution_count": 11,
     "metadata": {},
     "output_type": "execute_result"
    }
   ],
   "source": [
    "word_length_ratio(p_and_p_dont_stop, 8)"
   ]
  },
  {
   "cell_type": "markdown",
   "metadata": {},
   "source": [
    "7. Skrifið fall sem skilar öllum nafnorðum textans. Raðið þeim eftir því hversu oft þau birtast í textunum.\n",
    "    1. Eru 10 algengustu nafnorðin lýsandi fyrir textasafnið? Eða eru þau kannski frekar almenn?"
   ]
  },
  {
   "cell_type": "code",
   "execution_count": 25,
   "metadata": {},
   "outputs": [
    {
     "name": "stdout",
     "output_type": "stream",
     "text": [
      "57283\n"
     ]
    },
    {
     "data": {
      "text/plain": [
       "[{'word': 'sister', 'count': 207},\n",
       " {'word': 'jane', 'count': 196},\n",
       " {'word': 'time', 'count': 195},\n",
       " {'word': 'nothing', 'count': 177},\n",
       " {'word': 'family', 'count': 149},\n",
       " {'word': 'man', 'count': 146},\n",
       " {'word': 'day', 'count': 130},\n",
       " {'word': 'mother', 'count': 124},\n",
       " {'word': 'letter', 'count': 111},\n",
       " {'word': 'friend', 'count': 108},\n",
       " {'word': 'room', 'count': 107},\n",
       " {'word': 'way', 'count': 102},\n",
       " {'word': 'manner', 'count': 89},\n",
       " {'word': 'pleasure', 'count': 89},\n",
       " {'word': 'anything', 'count': 80},\n",
       " {'word': '_', 'count': 80},\n",
       " {'word': 'father', 'count': 80},\n",
       " {'word': 'aunt', 'count': 79},\n",
       " {'word': 'hope', 'count': 74},\n",
       " {'word': 'evening', 'count': 74}]"
      ]
     },
     "execution_count": 25,
     "metadata": {},
     "output_type": "execute_result"
    }
   ],
   "source": [
    "sorted_nouns((' ').join(p_and_p_dont_stop), 'en')[:20]"
   ]
  },
  {
   "cell_type": "markdown",
   "metadata": {},
   "source": [
    "Já, systir, tími, ekkert og fjölskylda er mjög lýsandi fyrir „Pride and Prejudice“"
   ]
  },
  {
   "cell_type": "markdown",
   "metadata": {},
   "source": [
    "8. Skrifið fall sem skilar orðinu sem inniheldur lengsta samhljóðaklasann og lengd samhljóðaklasans."
   ]
  },
  {
   "cell_type": "code",
   "execution_count": 23,
   "metadata": {},
   "outputs": [
    {
     "data": {
      "text/plain": [
       "[{'word': 'edwardstreet', 'length': 5}]"
      ]
     },
     "execution_count": 23,
     "metadata": {},
     "output_type": "execute_result"
    }
   ],
   "source": [
    "longest_consonant_cluster(p_and_p_dont_stop, 'en')"
   ]
  },
  {
   "cell_type": "markdown",
   "metadata": {},
   "source": [
    "## Tölfærðileg vinnsla á íslenskum lagatextum"
   ]
  },
  {
   "cell_type": "code",
   "execution_count": 14,
   "metadata": {
    "scrolled": true
   },
   "outputs": [],
   "source": [
    "songlog = ''\n",
    "with open(\"./data/songlog.txt\", \"rb\") as input_file:\n",
    "  songlog = input_file.read().decode('utf8')\n",
    "songlog_no_stop = remove_stop_words(songlog, 'is')"
   ]
  },
  {
   "cell_type": "markdown",
   "metadata": {},
   "source": [
    "1. Skrifið fall sem skilar heildarfjölda orða í textanum."
   ]
  },
  {
   "cell_type": "code",
   "execution_count": 15,
   "metadata": {},
   "outputs": [
    {
     "data": {
      "text/plain": [
       "85205"
      ]
     },
     "execution_count": 15,
     "metadata": {},
     "output_type": "execute_result"
    }
   ],
   "source": [
    "count_words(songlog)"
   ]
  },
  {
   "cell_type": "markdown",
   "metadata": {},
   "source": [
    "2. Skrifið fall sem skilar heildarfjölda mismunandi orða (orðmynda) í textanum."
   ]
  },
  {
   "cell_type": "code",
   "execution_count": 16,
   "metadata": {},
   "outputs": [
    {
     "data": {
      "text/plain": [
       "80"
      ]
     },
     "execution_count": 16,
     "metadata": {},
     "output_type": "execute_result"
    }
   ],
   "source": [
    "count_word_forms(songlog)"
   ]
  },
  {
   "cell_type": "markdown",
   "metadata": {},
   "source": [
    "3. Skrifið fall sem telur öll orðin í textanum og raðar þeim eftir því hversu oft þau birtast.\n",
    "    1. Hver eru 10 algengustu orðin?"
   ]
  },
  {
   "cell_type": "code",
   "execution_count": 17,
   "metadata": {
    "scrolled": true
   },
   "outputs": [
    {
     "data": {
      "text/plain": [
       "[{'word': 'var', 'count': 532},\n",
       " {'word': 'ekki', 'count': 336},\n",
       " {'word': 'la', 'count': 234},\n",
       " {'word': 'ei', 'count': 167},\n",
       " {'word': 'aldrei', 'count': 162},\n",
       " {'word': 'hér', 'count': 160},\n",
       " {'word': 'litla', 'count': 136},\n",
       " {'word': 'heim', 'count': 134},\n",
       " {'word': 'fer', 'count': 130},\n",
       " {'word': 'sé', 'count': 118}]"
      ]
     },
     "execution_count": 17,
     "metadata": {},
     "output_type": "execute_result"
    }
   ],
   "source": [
    "order_list_of_words_by_occurrence(songlog_no_stop)[:10]"
   ]
  },
  {
   "cell_type": "markdown",
   "metadata": {},
   "source": [
    "4. Endurtakið 3, nema breytið öllum hástöfum í lágstafi.\n",
    "    1. Er einhver munur á tíu algengstu orðunum hér og í 3.1?\n",
    "    2. Hver gæti verið ástæðan fyrir því?\n",
    "\n",
    "Sleppt."
   ]
  },
  {
   "cell_type": "markdown",
   "metadata": {},
   "source": [
    "5. Skrifið fall sem reiknar hlutfall einstakra orða og heildarfjölda orða."
   ]
  },
  {
   "cell_type": "code",
   "execution_count": 18,
   "metadata": {},
   "outputs": [
    {
     "data": {
      "text/plain": [
       "[{'word': 'var', 'count': 532, 'ratio': 0.010545930301708757},\n",
       " {'word': 'ekki', 'count': 336, 'ratio': 0.006660587558973952},\n",
       " {'word': 'la', 'count': 234, 'ratio': 0.004638623478571145},\n",
       " {'word': 'ei', 'count': 167, 'ratio': 0.0033104706022281253},\n",
       " {'word': 'aldrei', 'count': 162, 'ratio': 0.00321135471593387},\n",
       " {'word': 'hér', 'count': 160, 'ratio': 0.003171708361416168},\n",
       " {'word': 'litla', 'count': 136, 'ratio': 0.0026959521072037426},\n",
       " {'word': 'heim', 'count': 134, 'ratio': 0.0026563057526860405},\n",
       " {'word': 'fer', 'count': 130, 'ratio': 0.0025770130436506365},\n",
       " {'word': 'sé', 'count': 118, 'ratio': 0.0023391349165444238}]"
      ]
     },
     "execution_count": 18,
     "metadata": {},
     "output_type": "execute_result"
    }
   ],
   "source": [
    "unique_word_ratio(songlog_no_stop)[:10]"
   ]
  },
  {
   "cell_type": "code",
   "execution_count": 19,
   "metadata": {},
   "outputs": [
    {
     "data": {
      "text/plain": [
       "0.28382825199222933"
      ]
     },
     "execution_count": 19,
     "metadata": {},
     "output_type": "execute_result"
    }
   ],
   "source": [
    "unique_words_ratio(songlog_no_stop)"
   ]
  },
  {
   "cell_type": "markdown",
   "metadata": {},
   "source": [
    "6. Skrifið fall sem reiknar hlutfall orða sem eru lengri en 8 stafir (e. characters)."
   ]
  },
  {
   "cell_type": "code",
   "execution_count": 20,
   "metadata": {},
   "outputs": [
    {
     "data": {
      "text/plain": [
       "0.09624152559172185"
      ]
     },
     "execution_count": 20,
     "metadata": {},
     "output_type": "execute_result"
    }
   ],
   "source": [
    "word_length_ratio(songlog_no_stop, 8)"
   ]
  },
  {
   "cell_type": "markdown",
   "metadata": {},
   "source": [
    "7. Skrifið fall sem skilar öllum nafnorðum textans. Raðið þeim eftir því hversu oft þau birtast í textunum.\n",
    "    1. Eru 10 algengustu nafnorðin lýsandi fyrir textasafnið? Eða eru þau kannski frekar almenn?"
   ]
  },
  {
   "cell_type": "code",
   "execution_count": 21,
   "metadata": {},
   "outputs": [
    {
     "data": {
      "text/plain": [
       "[{'word': 'nótt', 'count': 112},\n",
       " {'word': 'sól', 'count': 105},\n",
       " {'word': 'enn', 'count': 105},\n",
       " {'word': 'dag', 'count': 98},\n",
       " {'word': 'vera', 'count': 92},\n",
       " {'word': 'hjarta', 'count': 90},\n",
       " {'word': 'ást', 'count': 77},\n",
       " {'word': 'ber', 'count': 70},\n",
       " {'word': 'vil', 'count': 70},\n",
       " {'word': 'sjá', 'count': 69},\n",
       " {'word': 'ró', 'count': 62},\n",
       " {'word': 'leið', 'count': 60},\n",
       " {'word': 'lífið', 'count': 60},\n",
       " {'word': 'Guð', 'count': 59},\n",
       " {'word': 'gaman', 'count': 58},\n",
       " {'word': 'bara', 'count': 56},\n",
       " {'word': 'kvöld', 'count': 56},\n",
       " {'word': 'lag', 'count': 56},\n",
       " {'word': 'vinur', 'count': 56},\n",
       " {'word': 'daginn', 'count': 55}]"
      ]
     },
     "execution_count": 21,
     "metadata": {},
     "output_type": "execute_result"
    }
   ],
   "source": [
    "sorted_nouns((' ').join(songlog_no_stop), 'is')[:20]"
   ]
  },
  {
   "cell_type": "markdown",
   "metadata": {},
   "source": [
    "Mjög týpískt íslenskt lag:\n",
    "\n",
    "> Nætur sól enn í dag \\\n",
    "> Vertu hjartans ást \\\n",
    "> Ber vil ég sjá ró \\\n",
    "> Leið á lífinu, Guð \\\n",
    "> Gaman bara í kvöld!"
   ]
  },
  {
   "cell_type": "markdown",
   "metadata": {},
   "source": [
    "8. Skrifið fall sem skilar orðinu sem inniheldur lengsta samhljóðaklasann og lengd samhljóðaklasans."
   ]
  },
  {
   "cell_type": "code",
   "execution_count": 22,
   "metadata": {},
   "outputs": [
    {
     "data": {
      "text/plain": [
       "[{'word': 'Íslandsströndum', 'length': 6},\n",
       " {'word': 'tunglsljósinu', 'length': 6},\n",
       " {'word': 'útvarpsstjóri', 'length': 6}]"
      ]
     },
     "execution_count": 22,
     "metadata": {},
     "output_type": "execute_result"
    }
   ],
   "source": [
    "longest_consonant_cluster(songlog_no_stop, 'is')"
   ]
  }
 ],
 "metadata": {
  "kernelspec": {
   "display_name": "Python 3 (ipykernel)",
   "language": "python",
   "name": "python3"
  },
  "language_info": {
   "codemirror_mode": {
    "name": "ipython",
    "version": 3
   },
   "file_extension": ".py",
   "mimetype": "text/x-python",
   "name": "python",
   "nbconvert_exporter": "python",
   "pygments_lexer": "ipython3",
   "version": "3.10.6"
  },
  "vscode": {
   "interpreter": {
    "hash": "1398fb0bb916c12ccbdba44edc047fceb48901bec649b6e899e038f135403ad7"
   }
  }
 },
 "nbformat": 4,
 "nbformat_minor": 2
}
